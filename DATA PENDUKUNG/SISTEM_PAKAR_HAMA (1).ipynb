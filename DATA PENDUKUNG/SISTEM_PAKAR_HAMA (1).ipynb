{
  "nbformat": 4,
  "nbformat_minor": 0,
  "metadata": {
    "colab": {
      "provenance": []
    },
    "kernelspec": {
      "name": "python3",
      "display_name": "Python 3"
    },
    "language_info": {
      "name": "python"
    }
  },
  "cells": [
    {
      "cell_type": "code",
      "execution_count": 2,
      "metadata": {
        "colab": {
          "base_uri": "https://localhost:8080/"
        },
        "id": "FlMlopNvWbyc",
        "outputId": "0020b3b0-d3a6-4edb-f6dc-07adbf3034a5"
      },
      "outputs": [
        {
          "output_type": "stream",
          "name": "stdout",
          "text": [
            "=== Sistem Pakar Deteksi Hama Tanaman ===\n",
            "\n",
            "Daftar Gejala yang Tersedia:\n",
            "1. daun menguning\n",
            "2. bercak hitam\n",
            "3. daun berlubang\n",
            "4. tanaman layu\n",
            "\n",
            "Masukkan gejala yang dialami tanaman (pisahkan dengan koma):\n",
            "> daun menguning,\n",
            "\n",
            "=== Hasil Deteksi ===\n",
            "- Daun Menguning : Hama: Kutu Daun\n",
            "-  : Gejala tidak dikenali\n"
          ]
        }
      ],
      "source": [
        "# Sistem Pakar Deteksi Hama Tanaman\n",
        "\n",
        "# Fungsi untuk mendeteksi hama berdasarkan gejala\n",
        "def deteksi_hama(gejala):\n",
        "    if \"daun menguning\" in gejala:\n",
        "        return \"Hama: Kutu Daun\"\n",
        "    elif \"bercak hitam\" in gejala:\n",
        "        return \"Penyakit: Jamur\"\n",
        "    elif \"daun berlubang\" in gejala:\n",
        "        return \"Hama: Ulat\"\n",
        "    elif \"tanaman layu\" in gejala:\n",
        "        return \"Hama: Nematoda\"\n",
        "    else:\n",
        "        return \"Gejala tidak dikenali\"\n",
        "\n",
        "# Daftar gejala yang tersedia\n",
        "daftar_gejala = [\n",
        "    \"daun menguning\",\n",
        "    \"bercak hitam\",\n",
        "    \"daun berlubang\",\n",
        "    \"tanaman layu\"\n",
        "]\n",
        "\n",
        "print(\"=== Sistem Pakar Deteksi Hama Tanaman ===\\n\")\n",
        "print(\"Daftar Gejala yang Tersedia:\")\n",
        "for idx, gejala in enumerate(daftar_gejala, start=1):\n",
        "    print(f\"{idx}. {gejala}\")\n",
        "\n",
        "# Input dari user\n",
        "input_user = input(\"\\nMasukkan gejala yang dialami tanaman (pisahkan dengan koma):\\n> \")\n",
        "\n",
        "# Memproses input menjadi list\n",
        "gejala_input = [g.strip().lower() for g in input_user.split(\",\")]\n",
        "\n",
        "# Output hasil deteksi\n",
        "print(\"\\n=== Hasil Deteksi ===\")\n",
        "for gejala in gejala_input:\n",
        "    hasil = deteksi_hama(gejala)\n",
        "    print(f\"- {gejala.title()} : {hasil}\")\n"
      ]
    }
  ]
}